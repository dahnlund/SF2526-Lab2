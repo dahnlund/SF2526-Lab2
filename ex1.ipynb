{
 "cells": [
  {
   "cell_type": "code",
   "execution_count": 293,
   "metadata": {
    "collapsed": true
   },
   "outputs": [],
   "source": [
    "import logging\n",
    "\n",
    "import numpy as np"
   ]
  },
  {
   "cell_type": "markdown",
   "source": [
    "## Exercise 1"
   ],
   "metadata": {
    "collapsed": false
   }
  },
  {
   "cell_type": "code",
   "execution_count": 303,
   "outputs": [],
   "source": [
    "X = np.array(\n",
    "    [[1, 1, 1],\n",
    "     [1.5, 2, 0],\n",
    "     [-0.5, 0, -3],\n",
    "     [0, -0.5, -1]]\n",
    ")"
   ],
   "metadata": {
    "collapsed": false
   }
  },
  {
   "cell_type": "markdown",
   "source": [
    "###  Sub-question (a)\n",
    "\n",
    "Using $n$ data points, given by the rows in the matrix $X \\in \\mathbb{R}^{n x p}$, we want to determine $k$ clusters. The centroids of those clusters are the rows in the matrix $R \\in \\mathbb{R}^{k x n}$."
   ],
   "metadata": {
    "collapsed": false
   }
  },
  {
   "cell_type": "code",
   "execution_count": 304,
   "outputs": [],
   "source": [
    "R = np.array(\n",
    "    [[3,   3, 3],\n",
    "     [-1, -1, 0]]\n",
    ")"
   ],
   "metadata": {
    "collapsed": false
   }
  },
  {
   "cell_type": "code",
   "execution_count": 313,
   "outputs": [
    {
     "name": "stdout",
     "output_type": "stream",
     "text": [
      "Iteration 0\n",
      "[[-0.25 -0.25 -2.  ]\n",
      " [ 1.25  1.5   0.5 ]]\n",
      "[[-0.25 -0.25 -2.  ]\n",
      " [ 1.25  1.5   0.5 ]]\n",
      "Iteration 1\n",
      "[[ 1.25  1.5   0.5 ]\n",
      " [-0.25 -0.25 -2.  ]]\n",
      "[[ 1.25  1.5   0.5 ]\n",
      " [-0.25 -0.25 -2.  ]]\n",
      "Iteration 2\n",
      "[[-0.25 -0.25 -2.  ]\n",
      " [ 1.25  1.5   0.5 ]]\n",
      "[[-0.25 -0.25 -2.  ]\n",
      " [ 1.25  1.5   0.5 ]]\n",
      "Iteration 3\n",
      "[[ 1.25  1.5   0.5 ]\n",
      " [-0.25 -0.25 -2.  ]]\n",
      "[[ 1.25  1.5   0.5 ]\n",
      " [-0.25 -0.25 -2.  ]]\n",
      "Iteration 4\n",
      "[[-0.25 -0.25 -2.  ]\n",
      " [ 1.25  1.5   0.5 ]]\n",
      "[[-0.25 -0.25 -2.  ]\n",
      " [ 1.25  1.5   0.5 ]]\n",
      "Iteration 5\n",
      "[[ 1.25  1.5   0.5 ]\n",
      " [-0.25 -0.25 -2.  ]]\n",
      "[[ 1.25  1.5   0.5 ]\n",
      " [-0.25 -0.25 -2.  ]]\n",
      "Iteration 6\n",
      "[[-0.25 -0.25 -2.  ]\n",
      " [ 1.25  1.5   0.5 ]]\n",
      "[[-0.25 -0.25 -2.  ]\n",
      " [ 1.25  1.5   0.5 ]]\n",
      "Iteration 7\n",
      "[[ 1.25  1.5   0.5 ]\n",
      " [-0.25 -0.25 -2.  ]]\n",
      "[[ 1.25  1.5   0.5 ]\n",
      " [-0.25 -0.25 -2.  ]]\n",
      "Iteration 8\n",
      "[[-0.25 -0.25 -2.  ]\n",
      " [ 1.25  1.5   0.5 ]]\n",
      "[[-0.25 -0.25 -2.  ]\n",
      " [ 1.25  1.5   0.5 ]]\n",
      "Iteration 9\n",
      "[[ 1.25  1.5   0.5 ]\n",
      " [-0.25 -0.25 -2.  ]]\n",
      "[[ 1.25  1.5   0.5 ]\n",
      " [-0.25 -0.25 -2.  ]]\n"
     ]
    }
   ],
   "source": [
    "# Compute the matrix of indicate vectors\n",
    "Rprev = 0\n",
    "counter = 0\n",
    "for m in range(10):\n",
    "# while not np.array_equal(Rprev, R):\n",
    "    Rprev = R.copy()\n",
    "    indicators = []\n",
    "    # Compute indicator vectors\n",
    "    for i, row in enumerate(X):\n",
    "        mat = np.tile(row, (R.shape[0], 1))\n",
    "        norms = np.linalg.norm(R - mat, axis=1)\n",
    "        indicators.append(norms == norms.max())\n",
    "\n",
    "    # Normalize the vectors\n",
    "    indicator_vectors = np.array(indicators).astype(int)\n",
    "    V = np.zeros(indicator_vectors.shape)\n",
    "    for i, iv in enumerate(indicator_vectors.T):\n",
    "        v = (1 / np.linalg.norm(iv, ord = 1)) * iv\n",
    "        V[:,i] = v\n",
    "\n",
    "    # Reset variables for the loop\n",
    "    print(f'Iteration {m}')\n",
    "    print(Rprev)\n",
    "    print(R)\n",
    "    R = np.matmul(V.T, X)\n",
    "    counter += 1"
   ],
   "metadata": {
    "collapsed": false
   }
  },
  {
   "cell_type": "markdown",
   "source": [
    "Sub-question (b)"
   ],
   "metadata": {
    "collapsed": false
   }
  },
  {
   "cell_type": "code",
   "execution_count": 10,
   "outputs": [],
   "source": [
    "R = np.array(\n",
    "    [[-0.5,   0, -3],\n",
    "     [-1,    -1,  1]]\n",
    ")"
   ],
   "metadata": {
    "collapsed": false
   }
  }
 ],
 "metadata": {
  "kernelspec": {
   "display_name": "Python 3",
   "language": "python",
   "name": "python3"
  },
  "language_info": {
   "codemirror_mode": {
    "name": "ipython",
    "version": 2
   },
   "file_extension": ".py",
   "mimetype": "text/x-python",
   "name": "python",
   "nbconvert_exporter": "python",
   "pygments_lexer": "ipython2",
   "version": "2.7.6"
  }
 },
 "nbformat": 4,
 "nbformat_minor": 0
}

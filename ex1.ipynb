{
 "cells": [
  {
   "cell_type": "code",
   "execution_count": 1,
   "metadata": {
    "collapsed": true
   },
   "outputs": [],
   "source": [
    "import numpy as np"
   ]
  },
  {
   "cell_type": "markdown",
   "source": [
    "## Exercise 1"
   ],
   "metadata": {
    "collapsed": false
   }
  },
  {
   "cell_type": "code",
   "execution_count": 2,
   "outputs": [],
   "source": [
    "X = np.array(\n",
    "    [[1, 1, 1],\n",
    "     [1.5, 2, 0],\n",
    "     [-0.5, 0, -3],\n",
    "     [0, -0.5, -1]]\n",
    ")"
   ],
   "metadata": {
    "collapsed": false
   }
  },
  {
   "cell_type": "markdown",
   "source": [
    "###  Sub-question (a)\n",
    "\n",
    "Using $n$ data points, given by the rows in the matrix $X \\in \\mathbb{R}^{n x p}$, we want to determine $k$ clusters. The cent\n",
    "roids of those clusters are the rows in the matrix $R \\in \\mathbb{R}^{k x n}$."
   ],
   "metadata": {
    "collapsed": false
   }
  },
  {
   "cell_type": "code",
   "execution_count": 3,
   "outputs": [],
   "source": [
    "def f(R):\n",
    "    indicators = np.zeros((4, 2))\n",
    "    for i, row in enumerate(X):\n",
    "        mat = np.tile(row, (R.shape[0], 1))\n",
    "        norms = np.linalg.norm(R - mat, axis=1)\n",
    "        indicators[i, :] = (norms == norms.max()).astype(int)\n",
    "\n",
    "    return indicators"
   ],
   "metadata": {
    "collapsed": false
   }
  },
  {
   "cell_type": "code",
   "execution_count": 4,
   "outputs": [],
   "source": [
    "R0 = np.array(\n",
    "    [[3, 3, 3],\n",
    "     [-1, -1, 0]]\n",
    ")"
   ],
   "metadata": {
    "collapsed": false
   }
  },
  {
   "cell_type": "code",
   "execution_count": 5,
   "outputs": [],
   "source": [
    "R1 = np.array(\n",
    "    [[1 / 6, 1 / 6, -1],\n",
    "     [1.5, 2, 0]]\n",
    ")"
   ],
   "metadata": {
    "collapsed": false
   }
  },
  {
   "cell_type": "code",
   "execution_count": 6,
   "outputs": [],
   "source": [
    "R2 = np.array(\n",
    "    [[2.5 / 2, 3 / 2, 1 / 2],\n",
    "     [-1 / 4, -1 / 4, -2]]\n",
    ")"
   ],
   "metadata": {
    "collapsed": false
   }
  },
  {
   "cell_type": "code",
   "execution_count": 7,
   "outputs": [],
   "source": [
    "R3 = np.array(\n",
    "    [[-1 / 4, -1 / 4, -2],\n",
    "     [2.5 / 2, 3 / 2, 1 / 2]]\n",
    ")"
   ],
   "metadata": {
    "collapsed": false
   }
  },
  {
   "cell_type": "code",
   "execution_count": 8,
   "outputs": [
    {
     "name": "stdout",
     "output_type": "stream",
     "text": [
      "\n",
      "Indicator vectors #1:\n",
      "\n",
      "[[1. 0.]\n",
      " [0. 1.]\n",
      " [1. 0.]\n",
      " [1. 0.]]\n",
      "\n",
      "Indicator vectors #2:\n",
      "\n",
      "[[1. 0.]\n",
      " [1. 0.]\n",
      " [0. 1.]\n",
      " [0. 1.]]\n",
      "\n",
      "Indicator vectors #3:\n",
      "\n",
      "[[0. 1.]\n",
      " [0. 1.]\n",
      " [1. 0.]\n",
      " [1. 0.]]\n",
      "\n",
      "Indicator vectors #4:\n",
      "\n",
      "[[1. 0.]\n",
      " [1. 0.]\n",
      " [0. 1.]\n",
      " [0. 1.]]\n",
      "\n"
     ]
    }
   ],
   "source": [
    "print(f\"\"\"\n",
    "Indicator vectors #1:\n",
    "\n",
    "{f(R0)}\n",
    "\n",
    "Indicator vectors #2:\n",
    "\n",
    "{f(R1)}\n",
    "\n",
    "Indicator vectors #3:\n",
    "\n",
    "{f(R2)}\n",
    "\n",
    "Indicator vectors #4:\n",
    "\n",
    "{f(R3)}\n",
    "\"\"\"\n",
    "      )"
   ],
   "metadata": {
    "collapsed": false
   }
  },
  {
   "cell_type": "markdown",
   "source": [
    "Sub-question (b)"
   ],
   "metadata": {
    "collapsed": false
   }
  },
  {
   "cell_type": "code",
   "execution_count": 9,
   "outputs": [],
   "source": [
    "R0 = np.array(\n",
    "    [[-0.5, 0, -3],\n",
    "     [-1, -1, 1]]\n",
    ")"
   ],
   "metadata": {
    "collapsed": false
   }
  },
  {
   "cell_type": "code",
   "execution_count": 10,
   "outputs": [],
   "source": [
    "R1 = np.array(\n",
    "    [[5 / 4, 3 / 2, 1 / 2],\n",
    "     [-1 / 4, -1 / 4, -2]]\n",
    ")"
   ],
   "metadata": {
    "collapsed": false
   }
  },
  {
   "cell_type": "code",
   "execution_count": 11,
   "outputs": [],
   "source": [
    "R2 = np.array(\n",
    "    [[-1 / 4, -1 / 4, -2],\n",
    "     [5 / 4, 3 / 2, 1 / 2]]\n",
    ")"
   ],
   "metadata": {
    "collapsed": false
   }
  },
  {
   "cell_type": "code",
   "execution_count": 12,
   "outputs": [
    {
     "name": "stdout",
     "output_type": "stream",
     "text": [
      "\n",
      "Indicator vectors #1:\n",
      "\n",
      "[[1. 0.]\n",
      " [1. 0.]\n",
      " [0. 1.]\n",
      " [0. 1.]]\n",
      "\n",
      "Indicator vectors #2:\n",
      "\n",
      "[[0. 1.]\n",
      " [0. 1.]\n",
      " [1. 0.]\n",
      " [1. 0.]]\n",
      "\n",
      "Indicator vectors #3:\n",
      "\n",
      "[[1. 0.]\n",
      " [1. 0.]\n",
      " [0. 1.]\n",
      " [0. 1.]]\n",
      "\n"
     ]
    }
   ],
   "source": [
    "print(f\"\"\"\n",
    "Indicator vectors #1:\n",
    "\n",
    "{f(R0)}\n",
    "\n",
    "Indicator vectors #2:\n",
    "\n",
    "{f(R1)}\n",
    "\n",
    "Indicator vectors #3:\n",
    "\n",
    "{f(R2)}\n",
    "\"\"\"\n",
    "      )"
   ],
   "metadata": {
    "collapsed": false
   }
  },
  {
   "cell_type": "markdown",
   "source": [
    "Verify with scikit-learn"
   ],
   "metadata": {
    "collapsed": false
   }
  },
  {
   "cell_type": "code",
   "execution_count": 13,
   "outputs": [],
   "source": [
    "from sklearn.cluster import KMeans"
   ],
   "metadata": {
    "collapsed": false
   }
  },
  {
   "cell_type": "code",
   "execution_count": 14,
   "outputs": [],
   "source": [
    "def _get_kmeans_labels(X, init):\n",
    "    km = KMeans(n_clusters=2, init=init, n_init=1).fit(X)\n",
    "    return km.labels_, km.n_iter_"
   ],
   "metadata": {
    "collapsed": false
   }
  },
  {
   "cell_type": "code",
   "execution_count": 15,
   "outputs": [
    {
     "name": "stdout",
     "output_type": "stream",
     "text": [
      "\n",
      "Clusters: [0 0 1 1]\n",
      "N iterations to get there: 3\n",
      "\n"
     ]
    }
   ],
   "source": [
    "R0 = np.array(\n",
    "    [[3, 3, 3],\n",
    "     [-1, -1, 0]]\n",
    ")\n",
    "labels, iters = _get_kmeans_labels(X, R0)\n",
    "print(f\"\"\"\n",
    "Clusters: {labels}\n",
    "N iterations to get there: {iters}\n",
    "\"\"\")"
   ],
   "metadata": {
    "collapsed": false
   }
  },
  {
   "cell_type": "code",
   "execution_count": 16,
   "outputs": [
    {
     "name": "stdout",
     "output_type": "stream",
     "text": [
      "\n",
      "Clusters: [1 1 0 0]\n",
      "N iterations to get there: 2\n",
      "\n"
     ]
    }
   ],
   "source": [
    "R0 = np.array(\n",
    "    [[-0.5, 0, -3],\n",
    "     [-1, -1, 1]]\n",
    ")\n",
    "_get_kmeans_labels(X, R0)\n",
    "labels, iters = _get_kmeans_labels(X, R0)\n",
    "print(f\"\"\"\n",
    "Clusters: {labels}\n",
    "N iterations to get there: {iters}\n",
    "\"\"\")"
   ],
   "metadata": {
    "collapsed": false
   }
  }
 ],
 "metadata": {
  "kernelspec": {
   "display_name": "Python 3",
   "language": "python",
   "name": "python3"
  },
  "language_info": {
   "codemirror_mode": {
    "name": "ipython",
    "version": 2
   },
   "file_extension": ".py",
   "mimetype": "text/x-python",
   "name": "python",
   "nbconvert_exporter": "python",
   "pygments_lexer": "ipython2",
   "version": "2.7.6"
  }
 },
 "nbformat": 4,
 "nbformat_minor": 0
}

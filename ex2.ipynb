{
 "cells": [
  {
   "cell_type": "code",
   "execution_count": 44,
   "metadata": {},
   "outputs": [],
   "source": [
    "import numpy as np\n",
    "import matplotlib.pyplot as plt\n",
    "import networkx as nx"
   ]
  },
  {
   "attachments": {},
   "cell_type": "markdown",
   "metadata": {},
   "source": [
    "# Exercise 2"
   ]
  },
  {
   "cell_type": "code",
   "execution_count": 70,
   "metadata": {},
   "outputs": [
    {
     "name": "stdout",
     "output_type": "stream",
     "text": [
      "[[ 3.76405235  0.40015721  0.97873798]\n",
      " [ 4.2408932   1.86755799 -0.97727788]\n",
      " [ 2.95008842 -0.15135721 -0.10321885]\n",
      " [ 2.4105985   0.14404357  1.45427351]\n",
      " [ 2.76103773  0.12167502  0.44386323]\n",
      " [ 0.33367433  3.49407907 -0.20515826]\n",
      " [ 0.3130677   1.14590426 -2.55298982]\n",
      " [ 0.6536186   2.8644362  -0.74216502]\n",
      " [ 2.26975462  0.54563433  0.04575852]\n",
      " [-0.18718385  3.53277921  1.46935877]\n",
      " [ 0.15494743  0.37816252  1.11221425]\n",
      " [-1.98079647 -0.34791215  2.15634897]\n",
      " [ 1.23029068  1.20237985  1.61267318]\n",
      " [-0.30230275 -1.04855297  0.57998206]\n",
      " [-1.70627019  1.9507754   1.49034782]\n",
      " [ 0.          0.          0.        ]]\n"
     ]
    }
   ],
   "source": [
    "n0 = 5; p = 3; c = 2\n",
    "np.random.seed(0)\n",
    "A1 = np.random.randn(n0,p) + c * np.array([1,0,0])\n",
    "A2 = np.random.randn(n0,p) + c * np.array([0,1,0])\n",
    "A3 = np.random.randn(n0,p) + c * np.array([0,0,1])\n",
    "A4 = np.array([[0,0,0]])\n",
    "A = np.concatenate((A1,A2,A3,A4))\n",
    "print(A)"
   ]
  },
  {
   "attachments": {},
   "cell_type": "markdown",
   "metadata": {},
   "source": [
    "## A)"
   ]
  },
  {
   "cell_type": "code",
   "execution_count": 85,
   "metadata": {},
   "outputs": [
    {
     "ename": "TypeError",
     "evalue": "'tuple' object is not callable",
     "output_type": "error",
     "traceback": [
      "\u001b[0;31m---------------------------------------------------------------------------\u001b[0m",
      "\u001b[0;31mTypeError\u001b[0m                                 Traceback (most recent call last)",
      "Cell \u001b[0;32mIn [85], line 3\u001b[0m\n\u001b[1;32m      1\u001b[0m Dist \u001b[39m=\u001b[39m np\u001b[39m.\u001b[39msqrt(np\u001b[39m.\u001b[39msum((A[:, \u001b[39mNone\u001b[39;00m, :] \u001b[39m-\u001b[39m A[\u001b[39mNone\u001b[39;00m, :, :])\u001b[39m*\u001b[39m\u001b[39m*\u001b[39m\u001b[39m2\u001b[39m, axis\u001b[39m=\u001b[39m\u001b[39m2\u001b[39m))\n\u001b[1;32m      2\u001b[0m epsilon \u001b[39m=\u001b[39m \u001b[39m2.5\u001b[39m\n\u001b[0;32m----> 3\u001b[0m G \u001b[39m=\u001b[39m \u001b[39m1\u001b[39m\u001b[39m*\u001b[39m(Dist \u001b[39m<\u001b[39m\u001b[39m=\u001b[39m epsilon) \u001b[39m-\u001b[39m np\u001b[39m.\u001b[39meye(Dist\u001b[39m.\u001b[39mshape())\n\u001b[1;32m      4\u001b[0m \u001b[39mprint\u001b[39m(G)\n\u001b[1;32m      5\u001b[0m G \u001b[39m=\u001b[39m nx\u001b[39m.\u001b[39mfrom_numpy_matrix(G)\n",
      "\u001b[0;31mTypeError\u001b[0m: 'tuple' object is not callable"
     ]
    }
   ],
   "source": [
    "Dist = np.sqrt(np.sum((A[:, None, :] - A[None, :, :])**2, axis=2))\n",
    "epsilon = 2.5\n",
    "G = 1*(Dist <= epsilon) - np.eye(Dist.shape)\n",
    "print(G)\n",
    "G = nx.from_numpy_matrix(G)\n",
    "nx.draw(G, with_labels=True, pos=nx.circular_layout(G))\n",
    "\n",
    "# Show the plot\n",
    "plt.show()\n",
    "\n",
    "\n"
   ]
  },
  {
   "cell_type": "code",
   "execution_count": null,
   "metadata": {},
   "outputs": [],
   "source": []
  }
 ],
 "metadata": {
  "kernelspec": {
   "display_name": "Python 3",
   "language": "python",
   "name": "python3"
  },
  "language_info": {
   "codemirror_mode": {
    "name": "ipython",
    "version": 3
   },
   "file_extension": ".py",
   "mimetype": "text/x-python",
   "name": "python",
   "nbconvert_exporter": "python",
   "pygments_lexer": "ipython3",
   "version": "3.10.7"
  },
  "orig_nbformat": 4,
  "vscode": {
   "interpreter": {
    "hash": "7e1998ff7f8aa20ada591c520b972326324e5ea05489af9e422744c7c09f6dad"
   }
  }
 },
 "nbformat": 4,
 "nbformat_minor": 2
}
